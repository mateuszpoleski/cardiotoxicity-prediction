{
 "cells": [
  {
   "cell_type": "code",
   "execution_count": 144,
   "metadata": {},
   "outputs": [],
   "source": [
    "import pandas as pd\n",
    "import numpy as np"
   ]
  },
  {
   "cell_type": "code",
   "execution_count": 145,
   "metadata": {},
   "outputs": [],
   "source": [
    "def remove_wrong_values(df):\n",
    "    df['IC50'] = pd.to_numeric(df['IC50'], errors='coerce')\n",
    "    df = df.dropna()\n",
    "    return df"
   ]
  },
  {
   "cell_type": "code",
   "execution_count": 146,
   "metadata": {},
   "outputs": [],
   "source": [
    "def remove_least_used(df, min_perc_used=0):\n",
    "    occur = pd.DataFrame(df.drop('IC50', axis=1).sum())\n",
    "    occur.columns = ['number_of_feature_occurrences']\n",
    "    min_occurrs = int(df.shape[0] * min_perc_used)\n",
    "    not_qualified = occur[occur['number_of_feature_occurrences']<min_occurrs]\n",
    "    return df.drop(not_qualified.index, axis=1)"
   ]
  },
  {
   "cell_type": "code",
   "execution_count": 147,
   "metadata": {},
   "outputs": [],
   "source": [
    "def remove_target_outliers(df):\n",
    "    return df[(df['IC50']>1) & (df['IC50']<=100_000)]"
   ]
  },
  {
   "cell_type": "code",
   "execution_count": 148,
   "metadata": {},
   "outputs": [],
   "source": [
    "def make_log_scale(df):\n",
    "    df['IC50'] = np.log10(df['IC50'])\n",
    "    return df"
   ]
  },
  {
   "cell_type": "code",
   "execution_count": null,
   "metadata": {},
   "outputs": [],
   "source": []
  },
  {
   "cell_type": "code",
   "execution_count": 149,
   "metadata": {},
   "outputs": [],
   "source": [
    "def prepare_df(file, min_perc_used=0, remove_outliers=True, log_scale=True):\n",
    "    print(f'Preparing ({file}) file.')\n",
    "    df = pd.read_csv(file, low_memory=False)\n",
    "    print(f'DataFrame base shape: {df.shape}')\n",
    "    \n",
    "    df = remove_wrong_values(df)\n",
    "    print(f'Shape after removing wrong values: {df.shape}')\n",
    "    \n",
    "    if min_perc_used != 0:\n",
    "        df = remove_least_used(df, min_perc_used=min_perc_used)\n",
    "        print(f'Shape after removing least used features: {df.shape}')\n",
    "    if remove_outliers:\n",
    "        df = remove_target_outliers(df)\n",
    "        print(f'Shape after removing outliers: {df.shape}')\n",
    "    if log_scale:\n",
    "        df = make_log_scale(df)    \n",
    "        \n",
    "    print()\n",
    "    return df"
   ]
  },
  {
   "cell_type": "code",
   "execution_count": 150,
   "metadata": {},
   "outputs": [],
   "source": [
    "def get_MACCSFP_fingerprints(min_perc_used=0, remove_outliers=True, log_scale=True):\n",
    "    file = 'ready_sets/cardiotoxicity_hERG_MACCSFP.csv'\n",
    "    df = prepare_df(file, min_perc_used=min_perc_used, remove_outliers=remove_outliers, log_scale=log_scale)\n",
    "    return df"
   ]
  },
  {
   "cell_type": "code",
   "execution_count": 151,
   "metadata": {},
   "outputs": [],
   "source": [
    "def get_KlekotaRoth_fingerprints(min_perc_used=0, remove_outliers=True, log_scale=True):\n",
    "    file = 'ready_sets/cardiotoxicity_hERG_KlekFP.csv'\n",
    "    df = prepare_df(file, min_perc_used=min_perc_used, remove_outliers=remove_outliers, log_scale=log_scale)\n",
    "    return df"
   ]
  },
  {
   "cell_type": "code",
   "execution_count": 152,
   "metadata": {},
   "outputs": [],
   "source": [
    "def get_hashed_fingerprints(min_perc_used=0, remove_outliers=True, log_scale=True):\n",
    "    file = 'ready_sets/cardiotoxicity_hERG_ExtFP.csv'\n",
    "    df = prepare_df(file, min_perc_used=min_perc_used, remove_outliers=remove_outliers, log_scale=log_scale)\n",
    "    return df"
   ]
  },
  {
   "cell_type": "code",
   "execution_count": 155,
   "metadata": {},
   "outputs": [],
   "source": [
    "def get_mixed_fingerprints(min_perc_used=0, remove_outliers=True, log_scale=True):\n",
    "    print('Preparing files for mixed fingerprints.\\n')\n",
    "    df1 = get_MACCSFP_fingerprints(min_perc_used=min_perc_used, remove_outliers=remove_outliers, log_scale=log_scale)\n",
    "    df2 = get_KlekotaRoth_fingerprints(min_perc_used=min_perc_used, remove_outliers=remove_outliers, log_scale=log_scale).drop('IC50',axis=1)\n",
    "    df3 = get_hashed_fingerprints(min_perc_used=min_perc_used, remove_outliers=remove_outliers, log_scale=log_scale).drop('IC50',axis=1)\n",
    "    \n",
    "    return df1.join(df2).join(df3)"
   ]
  },
  {
   "cell_type": "code",
   "execution_count": 157,
   "metadata": {},
   "outputs": [
    {
     "name": "stdout",
     "output_type": "stream",
     "text": [
      "Preparing files for mixed fingerprints.\n",
      "\n",
      "Preparing (ready_sets/cardiotoxicity_hERG_MACCSFP.csv) file.\n",
      "DataFrame base shape: (11504, 167)\n",
      "Shape after removing wrong values: (10635, 167)\n",
      "Shape after removing least used features: (10635, 138)\n",
      "Shape after removing outliers: (10396, 138)\n",
      "\n",
      "Preparing (ready_sets/cardiotoxicity_hERG_KlekFP.csv) file.\n",
      "DataFrame base shape: (11504, 4861)\n",
      "Shape after removing wrong values: (10635, 4861)\n",
      "Shape after removing least used features: (10635, 619)\n",
      "Shape after removing outliers: (10396, 619)\n",
      "\n",
      "Preparing (ready_sets/cardiotoxicity_hERG_ExtFP.csv) file.\n",
      "DataFrame base shape: (11504, 1025)\n",
      "Shape after removing wrong values: (10635, 1025)\n",
      "Shape after removing least used features: (10635, 1008)\n",
      "Shape after removing outliers: (10396, 1008)\n",
      "\n"
     ]
    }
   ],
   "source": [
    "df = get_mixed_fingerprints(min_perc_used=0.01)"
   ]
  },
  {
   "cell_type": "code",
   "execution_count": null,
   "metadata": {},
   "outputs": [],
   "source": []
  }
 ],
 "metadata": {
  "kernelspec": {
   "display_name": "Python 3",
   "language": "python",
   "name": "python3"
  },
  "language_info": {
   "codemirror_mode": {
    "name": "ipython",
    "version": 3
   },
   "file_extension": ".py",
   "mimetype": "text/x-python",
   "name": "python",
   "nbconvert_exporter": "python",
   "pygments_lexer": "ipython3",
   "version": "3.8.5"
  }
 },
 "nbformat": 4,
 "nbformat_minor": 4
}
